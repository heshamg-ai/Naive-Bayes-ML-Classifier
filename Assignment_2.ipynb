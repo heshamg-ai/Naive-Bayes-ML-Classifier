{
 "cells": [
  {
   "cell_type": "markdown",
   "metadata": {},
   "source": [
    "<h1><center>CSEN1022:Assignment 2</center></h1>\n",
    "<h3><center>Winter 2021</center></h3>\n",
    "<hr style=\"border:2px solid black\"> </hr>"
   ]
  },
  {
   "cell_type": "markdown",
   "metadata": {},
   "source": [
    "## <u> Please don't forget to fill in this data </u>\n",
    "**Member 1**\n",
    "\n",
    "Name: Hesham Abdulhamid \n",
    "\n",
    "GUC-ID: 43-1684\n",
    "\n",
    "Elective Tutorial No.: T-06\n",
    "\n",
    "**Member 2**\n",
    "\n",
    "Name: Muhammed Ehab\n",
    "\n",
    "GUC-ID: 43-7667\n",
    "\n",
    "Elective Tutorial No.: T-02\n",
    "\n",
    "<hr style=\"border:2px solid black\"> </hr>"
   ]
  },
  {
   "cell_type": "markdown",
   "metadata": {},
   "source": [
    "## Imports (Don't Edit)"
   ]
  },
  {
   "cell_type": "code",
   "execution_count": 1,
   "metadata": {},
   "outputs": [],
   "source": [
    "# ONLY USE THESE IMPORTS.\n",
    "# PLEASE DON'T EDIT THIS CELL.\n",
    "import numpy as np\n",
    "import matplotlib.pyplot as plt\n",
    "import cv2\n",
    "%matplotlib inline\n",
    "confusion_matrices_nb = []\n",
    "confusion_matrices_gm = []"
   ]
  },
  {
   "cell_type": "markdown",
   "metadata": {},
   "source": [
    "## Read Data"
   ]
  },
  {
   "cell_type": "code",
   "execution_count": 34,
   "metadata": {},
   "outputs": [],
   "source": [
    "# X_train, X_test\n",
    "from PIL import Image\n",
    "\n",
    "def our_reshapeColors(image_array): \n",
    "    image_reshaped = np.zeros([1, len(image_array) * 3], dtype=float)\n",
    "    arr = np.reshape(image_array, 3072)\n",
    "    for x in range(len(arr)):\n",
    "        image_reshaped[0][x] = arr[x]\n",
    "    return image_reshaped\n",
    "\n",
    "def our_reshapeColors2(image_array,n): \n",
    "    image_reshaped = np.zeros([1, n*n*3], dtype=float)\n",
    "    arr = np.reshape(image_array, n*n*3)\n",
    "    for x in range(len(arr)):\n",
    "        image_reshaped[0][x] = arr[x]\n",
    "    return image_reshaped\n",
    "\n",
    "def readData():\n",
    "    nRGB = 3072\n",
    "    \n",
    "      ############### LOAD X-TRAIN ###########\n",
    "\n",
    "    x_train = np.zeros([15000, nRGB], dtype=float)\n",
    "\n",
    "    for x in range(5000):\n",
    "        trained_img = Image.open(\"C:/Users/Hesham Ghonim/Desktop/ML_Ass_2/assignment_2-hghonim27-master/Data/train/airplane/\" + str(x) + \".jpg\")\n",
    "        image_sequence = trained_img.getdata()\n",
    "        image_array = np.array(image_sequence)\n",
    "        image_reshaped = our_reshapeColors(image_array)\n",
    "        for y in range(nRGB):\n",
    "            x_train[x][y]=image_reshaped[0][y]/255\n",
    "\n",
    "    for x in range(5000):\n",
    "        trained_img = Image.open(\"C:/Users/Hesham Ghonim/Desktop/ML_Ass_2/assignment_2-hghonim27-master/Data/train/automobile/\" + str(x) + \".jpg\")\n",
    "        image_sequence = trained_img.getdata()\n",
    "        image_array = np.array(image_sequence)\n",
    "        image_reshaped = our_reshapeColors(image_array)\n",
    "        for y in range(nRGB):\n",
    "            x_train[x+5000][y]=image_reshaped[0][y]/255\n",
    "\n",
    "    for x in range(5000):\n",
    "        trained_img = Image.open(\"C:/Users/Hesham Ghonim/Desktop/ML_Ass_2/assignment_2-hghonim27-master/Data/train/frog/\" + str(x) + \".jpg\")\n",
    "        image_sequence = trained_img.getdata()\n",
    "        image_array = np.array(image_sequence)\n",
    "        image_reshaped = our_reshapeColors(image_array)\n",
    "        for y in range(nRGB):\n",
    "            x_train[x+10000][y]=image_reshaped[0][y]/255 \n",
    "            \n",
    "            \n",
    "     ############### LOAD X-TEST ###########\n",
    "\n",
    "    X_test = np.zeros([3000, nRGB], dtype=float)\n",
    "\n",
    "    for x in range(1000):\n",
    "        trained_img = Image.open(\"C:/Users/Hesham Ghonim/Desktop/ML_Ass_2/assignment_2-hghonim27-master/Data/test/airplane/\" + str(x) + \".jpg\")\n",
    "        image_sequence = trained_img.getdata()\n",
    "        image_array = np.array(image_sequence)\n",
    "        image_reshaped = our_reshapeColors(image_array)\n",
    "        for y in range(nRGB):\n",
    "            X_test[x][y]=image_reshaped[0][y]/255\n",
    "\n",
    "    for x in range(1000):\n",
    "        trained_img = Image.open(\"C:/Users/Hesham Ghonim/Desktop/ML_Ass_2/assignment_2-hghonim27-master/Data/test/automobile/\" + str(x) + \".jpg\")\n",
    "        image_sequence = trained_img.getdata()\n",
    "        image_array = np.array(image_sequence)\n",
    "        image_reshaped = our_reshapeColors(image_array)\n",
    "        for y in range(nRGB):\n",
    "            X_test[x+1000][y]=image_reshaped[0][y]/255\n",
    "\n",
    "    for x in range(1000):\n",
    "        trained_img = Image.open(\"C:/Users/Hesham Ghonim/Desktop/ML_Ass_2/assignment_2-hghonim27-master/Data/test/frog/\" + str(x) + \".jpg\")\n",
    "        image_sequence = trained_img.getdata()\n",
    "        image_array = np.array(image_sequence)\n",
    "        image_reshaped = our_reshapeColors(image_array)\n",
    "        for y in range(nRGB):\n",
    "            X_test[x+2000][y]=image_reshaped[0][y]/255\n",
    "            \n",
    "    return x_train,X_test\n",
    "            \n",
    "            "
   ]
  },
  {
   "cell_type": "markdown",
   "metadata": {},
   "source": [
    "<hr style=\"border:2px solid black\"> </hr>\n",
    "\n",
    "## Construct Naive Bayes classifier for each of the 3 classes.\n",
    "#### Test each classifier on all images in X_Test. \n",
    "#### Construct Confusion Matrix."
   ]
  },
  {
   "cell_type": "code",
   "execution_count": 35,
   "metadata": {},
   "outputs": [],
   "source": [
    "def Gauss(x,m,v):\n",
    "    return(np.exp((((x-m)**2)*(-1))/(2*v))/np.sqrt(2*np.pi*v)) "
   ]
  },
  {
   "cell_type": "code",
   "execution_count": 36,
   "metadata": {},
   "outputs": [],
   "source": [
    "def Naive_Bayes_classifier(airplane_imgs,automobile_imgs,frog_imgs,airplane_test_imgs,automobile_test_imgs,frog_test_imgs,n):\n",
    "    #3072 mean & var for 5000 airplane images\n",
    "    Airplane_mean=np.mean(airplane_imgs,axis=0)\n",
    "    Airplane_mean.shape=(1,n*n*3)\n",
    "\n",
    "    Airplane_var=np.var(airplane_imgs,axis=0)\n",
    "    Airplane_var.shape=(1,n*n*3)\n",
    "\n",
    "\n",
    "    #3072 mean & var for 5000 automobile images\n",
    "    Automobile_mean=np.mean(automobile_imgs,axis=0)\n",
    "    Automobile_mean.shape=(1,n*n*3)\n",
    "\n",
    "    Automobile_var=np.var(automobile_imgs,axis=0)\n",
    "    Automobile_var.shape=(1,n*n*3)\n",
    "\n",
    "    #3072 mean & var for 5000 frog images\n",
    "    Frog_mean=np.mean(frog_imgs,axis=0)\n",
    "    Frog_mean.shape=(1,n*n*3)\n",
    "\n",
    "\n",
    "    Frog_var=np.var(frog_imgs,axis=0)\n",
    "    Frog_var.shape=(1,n*n*3)\n",
    "\n",
    "\n",
    "    p_airplane_1=0.0\n",
    "    p_automobile_1=0.0\n",
    "    p_frog_1=0.0\n",
    "\n",
    "    p_airplane_2=0.0\n",
    "    p_automobile_2=0.0\n",
    "    p_frog_2=0.0\n",
    "\n",
    "    p_airplane_3=0.0\n",
    "    p_automobile_3=0.0\n",
    "    p_frog_3=0.0\n",
    "\n",
    "\n",
    "    p_values_row_1=np.zeros((1, 3000)).astype(float)\n",
    "    p_values_row_2=np.zeros((1, 3000)).astype(float)\n",
    "    p_values_row_3=np.zeros((1, 3000)).astype(float)\n",
    "\n",
    "\n",
    "    for i in range (1000):\n",
    "        for j in range (n*n*3):\n",
    "            p_airplane_1   = np.add(p_airplane_1,np.log(Gauss(airplane_test_imgs[i][j],Airplane_mean[0][j],Airplane_var[0][j])))\n",
    "            p_automobile_1 = np.add(p_automobile_1,np.log(Gauss(automobile_test_imgs[i][j],Airplane_mean[0][j],Airplane_var[0][j])))\n",
    "            p_frog_1       = np.add(p_frog_1,np.log(Gauss(frog_test_imgs[i][j],Airplane_mean[0][j],Airplane_var[0][j])))\n",
    "\n",
    "            p_airplane_2   = np.add(p_airplane_2,np.log(Gauss(airplane_test_imgs[i][j],Automobile_mean[0][j],Automobile_var[0][j])))\n",
    "            p_automobile_2 = np.add(p_automobile_2,np.log(Gauss(automobile_test_imgs[i][j],Automobile_mean[0][j],Automobile_var[0][j])))\n",
    "            p_frog_2       = np.add(p_frog_2,np.log(Gauss(frog_test_imgs[i][j],Automobile_mean[0][j],Automobile_var[0][j])))\n",
    "\n",
    "            p_airplane_3   = np.add(p_airplane_3,np.log(Gauss(airplane_test_imgs[i][j],Frog_mean[0][j],Frog_var[0][j])))\n",
    "            p_automobile_3 = np.add(p_automobile_3,np.log(Gauss(automobile_test_imgs[i][j],Frog_mean[0][j],Frog_var[0][j])))\n",
    "            p_frog_3       = np.add(p_frog_3,np.log(Gauss(frog_test_imgs[i][j],Frog_mean[0][j],Frog_var[0][j])))\n",
    "\n",
    "\n",
    "        p_values_row_1[0][i]=p_airplane_1\n",
    "        p_values_row_1[0][i+1000]= p_automobile_1\n",
    "        p_values_row_1[0][i+2000]= p_frog_1\n",
    "\n",
    "        p_values_row_2[0][i]=p_airplane_2\n",
    "        p_values_row_2[0][i+1000]= p_automobile_2\n",
    "        p_values_row_2[0][i+2000]= p_frog_2\n",
    "\n",
    "        p_values_row_3[0][i]=p_airplane_3\n",
    "        p_values_row_3[0][i+1000]= p_automobile_3\n",
    "        p_values_row_3[0][i+2000]= p_frog_3\n",
    "\n",
    "        p_airplane_1=0.0\n",
    "        p_automobile_1=0.0\n",
    "        p_frog_1=0.0\n",
    "\n",
    "        p_airplane_2=0.0\n",
    "        p_automobile_2=0.0\n",
    "        p_frog_2=0.0\n",
    "\n",
    "        p_airplane_3=0.0\n",
    "        p_automobile_3=0.0\n",
    "        p_frog_3=0.0\n",
    "\n",
    "    r=np.concatenate((p_values_row_1.T, p_values_row_2.T, p_values_row_3.T))\n",
    "    r.shape=(3,3000)\n",
    "    r=r.T\n",
    "\n",
    "    row=np.zeros(3000)\n",
    "    row.shape=(1,3000)\n",
    "\n",
    "    for i in range (3000):\n",
    "        m=max(r[i])\n",
    "        if(r[i][0]==m):\n",
    "            row[0][i]=0\n",
    "        elif(r[i][1]==m):\n",
    "            row[0][i]=1\n",
    "        elif(r[i][2]==m):\n",
    "            row[0][i]=2\n",
    "\n",
    "\n",
    "    confusion_matrix=np.zeros((3, 3))\n",
    "\n",
    "    #Iteration 1\n",
    "    airplane=0\n",
    "    automobile=0  \n",
    "    frog=0  \n",
    "\n",
    "    for i in range(1000):\n",
    "\n",
    "        if(row[0][i]==0):\n",
    "            airplane=airplane+1\n",
    "        elif(row[0][i]==1):\n",
    "            automobile=automobile+1\n",
    "        elif(row[0][i]==2):\n",
    "            frog=frog+1\n",
    "\n",
    "    confusion_matrix[0][0]=airplane\n",
    "    confusion_matrix[0][1]=automobile\n",
    "    confusion_matrix[0][2]=frog\n",
    "\n",
    "    #Iteration 2\n",
    "    airplane=0\n",
    "    automobile=0  \n",
    "    frog=0  \n",
    "\n",
    "    for i in range(1000,2000):\n",
    "\n",
    "        if(row[0][i]==0):\n",
    "            airplane=airplane+1\n",
    "        elif(row[0][i]==1):\n",
    "            automobile=automobile+1\n",
    "        elif(row[0][i]==2):\n",
    "            frog=frog+1\n",
    "\n",
    "    confusion_matrix[1][0]=airplane\n",
    "    confusion_matrix[1][1]=automobile\n",
    "    confusion_matrix[1][2]=frog\n",
    "\n",
    "    #Iteration 3\n",
    "    airplane=0\n",
    "    automobile=0  \n",
    "    frog=0  \n",
    "\n",
    "    for i in range(2000,3000):\n",
    "\n",
    "        if(row[0][i]==0):\n",
    "            airplane=airplane+1\n",
    "        elif(row[0][i]==1):\n",
    "            automobile=automobile+1\n",
    "        elif(row[0][i]==2):\n",
    "            frog=frog+1\n",
    "\n",
    "    confusion_matrix[2][0]=airplane\n",
    "    confusion_matrix[2][1]=automobile\n",
    "    confusion_matrix[2][2]=frog\n",
    "    #confusion_matrices_nb += [confusion_matrix]\n",
    "\n",
    "    return confusion_matrix"
   ]
  },
  {
   "cell_type": "code",
   "execution_count": 37,
   "metadata": {},
   "outputs": [],
   "source": [
    "(x_train, X_test) = readData()\n",
    "\n",
    "global airplane_imgs\n",
    "global automobile_imgs\n",
    "global frog_imgs\n",
    "global airplane_test_imgs\n",
    "global automobile_test_imgs\n",
    "global frog_test_imgs\n",
    "\n",
    "airplane_imgs = x_train[0:5000] \n",
    "automobile_imgs = x_train[5000:10000]\n",
    "frog_imgs = x_train[10000:15000]\n",
    "\n",
    "airplane_test_imgs = X_test[0:1000] \n",
    "automobile_test_imgs =X_test[1000:2000] \n",
    "frog_test_imgs = X_test[2000:3000] \n"
   ]
  },
  {
   "cell_type": "code",
   "execution_count": 38,
   "metadata": {},
   "outputs": [],
   "source": [
    "def Resize_Image(n):\n",
    "    #for 5000 trained images\n",
    "    airplane_resized_imgs=np.zeros((5000, n*n*3)).astype(float)\n",
    "    automobile_resized_imgs=np.zeros((5000, n*n*3)).astype(float)\n",
    "    frog_resized_imgs=np.zeros((5000, n*n*3)).astype(float)\n",
    "    for i in range (5000):\n",
    "        airplane_resized_imgs[i]=our_reshapeColors2(cv2.resize(airplane_imgs[i].reshape((32,32,3)), (n,n), interpolation=cv2.INTER_AREA),n)\n",
    "        automobile_resized_imgs[i]=our_reshapeColors2(cv2.resize(automobile_imgs[i].reshape((32,32,3)), (n,n), interpolation=cv2.INTER_AREA),n)\n",
    "        frog_resized_imgs[i]=our_reshapeColors2(cv2.resize(frog_imgs[i].reshape((32,32,3)), (n,n), interpolation=cv2.INTER_AREA),n)\n",
    "        \n",
    "    #for 1000 test images\n",
    "    airplane_resized_test_imgs=np.zeros((1000, n*n*3)).astype(float)\n",
    "    automobile_resized_test_imgs=np.zeros((1000, n*n*3)).astype(float)\n",
    "    frog_resized_test_imgs=np.zeros((1000, n*n*3)).astype(float)\n",
    "    for i in range (1000):\n",
    "        airplane_resized_test_imgs[i]=our_reshapeColors2(cv2.resize(airplane_test_imgs[i].reshape((32,32,3)), (n,n), interpolation=cv2.INTER_AREA),n)\n",
    "        automobile_resized_test_imgs[i]=our_reshapeColors2(cv2.resize(automobile_test_imgs[i].reshape((32,32,3)), (n,n), interpolation=cv2.INTER_AREA),n)\n",
    "        frog_resized_test_imgs[i]=our_reshapeColors2(cv2.resize(frog_test_imgs[i].reshape((32,32,3)), (n,n), interpolation=cv2.INTER_AREA),n)\n",
    "        \n",
    "    return airplane_resized_imgs,automobile_resized_imgs,frog_resized_imgs,airplane_resized_test_imgs,automobile_resized_test_imgs,frog_resized_test_imgs"
   ]
  },
  {
   "cell_type": "code",
   "execution_count": 43,
   "metadata": {},
   "outputs": [
    {
     "name": "stdout",
     "output_type": "stream",
     "text": [
      "[[730. 121. 149.]\n",
      " [258. 426. 316.]\n",
      " [174.  53. 773.]]\n"
     ]
    }
   ],
   "source": [
    "a=Naive_Bayes_classifier(airplane_imgs,automobile_imgs,frog_imgs,airplane_test_imgs,automobile_test_imgs,frog_test_imgs,32)\n",
    "print(a)"
   ]
  },
  {
   "cell_type": "code",
   "execution_count": 44,
   "metadata": {},
   "outputs": [
    {
     "name": "stdout",
     "output_type": "stream",
     "text": [
      "[[723. 131. 146.]\n",
      " [255. 429. 316.]\n",
      " [170.  53. 777.]]\n"
     ]
    }
   ],
   "source": [
    "a1,a2,a3,a4,a5,a6=Resize_Image(16)\n",
    "b=Naive_Bayes_classifier(a1,a2,a3,a4,a5,a6,16)\n",
    "print(b)"
   ]
  },
  {
   "cell_type": "code",
   "execution_count": 45,
   "metadata": {},
   "outputs": [
    {
     "name": "stdout",
     "output_type": "stream",
     "text": [
      "[[713. 146. 141.]\n",
      " [253. 421. 326.]\n",
      " [165.  57. 778.]]\n"
     ]
    }
   ],
   "source": [
    "a1,a2,a3,a4,a5,a6=Resize_Image(8)\n",
    "c=Naive_Bayes_classifier(a1,a2,a3,a4,a5,a6,8)\n",
    "print(c)"
   ]
  },
  {
   "cell_type": "code",
   "execution_count": 46,
   "metadata": {},
   "outputs": [
    {
     "name": "stdout",
     "output_type": "stream",
     "text": [
      "[[682. 181. 137.]\n",
      " [256. 382. 362.]\n",
      " [164.  61. 775.]]\n"
     ]
    }
   ],
   "source": [
    "a1,a2,a3,a4,a5,a6=Resize_Image(4)\n",
    "d=Naive_Bayes_classifier(a1,a2,a3,a4,a5,a6,4)\n",
    "print(d)"
   ]
  },
  {
   "cell_type": "code",
   "execution_count": 47,
   "metadata": {},
   "outputs": [],
   "source": [
    "confusion_matrices_nb =[a]+[b]+[c]+[d]"
   ]
  },
  {
   "cell_type": "markdown",
   "metadata": {},
   "source": [
    "<hr style=\"border:2px solid black\"> </hr>\n",
    "\n",
    "## Construct Gaussian Generative Model classifier for each of the 3 classes.\n",
    "#### Test each classifier on all images in X_Test. \n",
    "#### Construct Confusion Matrix."
   ]
  },
  {
   "cell_type": "code",
   "execution_count": 111,
   "metadata": {},
   "outputs": [],
   "source": [
    "def Likelihood(x,mean,cov_matrix):\n",
    "    temp=x-mean\n",
    "    a=np.dot(temp,cov_matrix)\n",
    "    b=np.dot(a,temp.T)\n",
    "    c=np.multiply(-0.5,b)\n",
    "    return np.exp(c)"
   ]
  },
  {
   "cell_type": "code",
   "execution_count": 118,
   "metadata": {},
   "outputs": [],
   "source": [
    "def covmat(airplane_imgs1,automobile_imgs1,frog_imgs1,n,Airplane_mean,Automobile_mean,Frog_mean):\n",
    "    \n",
    "    s1=np.dot(np.transpose(airplane_imgs1-Airplane_mean),airplane_imgs1-Airplane_mean)\n",
    "    \n",
    "    s2=np.dot(np.transpose(automobile_imgs1-Automobile_mean),automobile_imgs1-Automobile_mean)\n",
    "    \n",
    "    s3=np.dot(np.transpose(frog_imgs1-Frog_mean),frog_imgs1-Frog_mean)\n",
    "    #factor=3/9\n",
    "    #(factor*s1)+(factor*s2)+(factor*s3)\n",
    "       \n",
    "    return s1+s2+s3"
   ]
  },
  {
   "cell_type": "code",
   "execution_count": 119,
   "metadata": {},
   "outputs": [],
   "source": [
    "def Gaussian_Generative_classifier(airplane_imgs,automobile_imgs,frog_imgs,airplane_test_imgs,automobile_test_imgs,frog_test_imgs,n):\n",
    "    #3072 mean & var for 5000 airplane images\n",
    "    Airplane_mean=np.mean(airplane_imgs,axis=0)\n",
    "    Airplane_mean.shape=(1,n*n*3)\n",
    "\n",
    "    #3072 mean & var for 5000 automobile images\n",
    "    Automobile_mean=np.mean(automobile_imgs,axis=0)\n",
    "    Automobile_mean.shape=(1,n*n*3)\n",
    "\n",
    "    #3072 mean & var for 5000 frog images\n",
    "    Frog_mean=np.mean(frog_imgs,axis=0)\n",
    "    Frog_mean.shape=(1,n*n*3)\n",
    "\n",
    "\n",
    "    p_values_row_1=np.zeros((1, 3000)).astype(float)\n",
    "    p_values_row_2=np.zeros((1, 3000)).astype(float)\n",
    "    p_values_row_3=np.zeros((1, 3000)).astype(float)\n",
    "\n",
    "    cov_mat=np.linalg.pinv(covmat(airplane_imgs,automobile_imgs,frog_imgs,n,Airplane_mean,Automobile_mean,Frog_mean))\n",
    "    for i in range (1000):\n",
    "        \n",
    "        p_values_row_1[0][i]   = (Likelihood(airplane_test_imgs[i],Airplane_mean,cov_mat))[0][0]\n",
    "        p_values_row_1[0][i+1000] = (Likelihood(automobile_test_imgs[i],Airplane_mean,cov_mat))[0][0]\n",
    "        p_values_row_1[0][i+2000]     = (Likelihood(frog_test_imgs[i],Airplane_mean,cov_mat))[0][0]\n",
    "      \n",
    "        p_values_row_2[0][i]   = (Likelihood(airplane_test_imgs[i],Automobile_mean,cov_mat))[0][0]\n",
    "        p_values_row_2[0][i+1000]= (Likelihood(automobile_test_imgs[i],Automobile_mean,cov_mat))[0][0]\n",
    "        p_values_row_2[0][i+2000]= (Likelihood(frog_test_imgs[i],Automobile_mean,cov_mat))[0][0]\n",
    "\n",
    "        p_values_row_3[0][i]   = (Likelihood(airplane_test_imgs[i],Frog_mean,cov_mat))[0][0]\n",
    "        p_values_row_3[0][i+1000] = (Likelihood(automobile_test_imgs[i],Frog_mean,cov_mat))[0][0]\n",
    "        p_values_row_3[0][i+2000]       = (Likelihood(frog_test_imgs[i],Frog_mean,cov_mat))[0][0]\n",
    "\n",
    "\n",
    "       \n",
    "\n",
    "    r=np.concatenate((p_values_row_1.T, p_values_row_2.T, p_values_row_3.T))\n",
    "    r.shape=(3,3000)\n",
    "    r=r.T\n",
    "\n",
    "    row=np.zeros(3000)\n",
    "    row.shape=(1,3000)\n",
    "\n",
    "    for i in range (3000):\n",
    "        m=max(r[i])\n",
    "        if(r[i][0]==m):\n",
    "            row[0][i]=0\n",
    "        elif(r[i][1]==m):\n",
    "            row[0][i]=1\n",
    "        elif(r[i][2]==m):\n",
    "            row[0][i]=2\n",
    "\n",
    "\n",
    "    confusion_matrix=np.zeros((3, 3))\n",
    "\n",
    "    #Iteration 1\n",
    "    airplane=0\n",
    "    automobile=0  \n",
    "    frog=0  \n",
    "\n",
    "    for i in range(1000):\n",
    "\n",
    "        if(row[0][i]==0):\n",
    "            airplane=airplane+1\n",
    "        elif(row[0][i]==1):\n",
    "            automobile=automobile+1\n",
    "        elif(row[0][i]==2):\n",
    "            frog=frog+1\n",
    "\n",
    "    confusion_matrix[0][0]=airplane\n",
    "    confusion_matrix[0][1]=automobile\n",
    "    confusion_matrix[0][2]=frog\n",
    "\n",
    "    #Iteration 2\n",
    "    airplane=0\n",
    "    automobile=0  \n",
    "    frog=0  \n",
    "\n",
    "    for i in range(1000,2000):\n",
    "\n",
    "        if(row[0][i]==0):\n",
    "            airplane=airplane+1\n",
    "        elif(row[0][i]==1):\n",
    "            automobile=automobile+1\n",
    "        elif(row[0][i]==2):\n",
    "            frog=frog+1\n",
    "\n",
    "    confusion_matrix[1][0]=airplane\n",
    "    confusion_matrix[1][1]=automobile\n",
    "    confusion_matrix[1][2]=frog\n",
    "\n",
    "    #Iteration 3\n",
    "    airplane=0\n",
    "    automobile=0  \n",
    "    frog=0  \n",
    "\n",
    "    for i in range(2000,3000):\n",
    "\n",
    "        if(row[0][i]==0):\n",
    "            airplane=airplane+1\n",
    "        elif(row[0][i]==1):\n",
    "            automobile=automobile+1\n",
    "        elif(row[0][i]==2):\n",
    "            frog=frog+1\n",
    "\n",
    "    confusion_matrix[2][0]=airplane\n",
    "    confusion_matrix[2][1]=automobile\n",
    "    confusion_matrix[2][2]=frog\n",
    "    #confusion_matrices_nb += [confusion_matrix]\n",
    "\n",
    "    return confusion_matrix\n",
    "\n",
    "\n",
    "#confusion_matrices_gm += [confusion_matrix]"
   ]
  },
  {
   "cell_type": "code",
   "execution_count": 127,
   "metadata": {},
   "outputs": [
    {
     "name": "stdout",
     "output_type": "stream",
     "text": [
      "[[769. 127. 104.]\n",
      " [192. 672. 136.]\n",
      " [ 83. 126. 791.]]\n"
     ]
    }
   ],
   "source": [
    "e=Gaussian_Generative_classifier(airplane_imgs,automobile_imgs,frog_imgs,airplane_test_imgs,automobile_test_imgs,frog_test_imgs,32)\n",
    "print(e)"
   ]
  },
  {
   "cell_type": "code",
   "execution_count": 124,
   "metadata": {},
   "outputs": [
    {
     "name": "stdout",
     "output_type": "stream",
     "text": [
      "[[797. 116.  87.]\n",
      " [161. 721. 118.]\n",
      " [ 61. 108. 831.]]\n"
     ]
    }
   ],
   "source": [
    "a1,a2,a3,a4,a5,a6=Resize_Image(16)\n",
    "f=Gaussian_Generative_classifier(a1,a2,a3,a4,a5,a6,16)\n",
    "print(f)"
   ]
  },
  {
   "cell_type": "code",
   "execution_count": 125,
   "metadata": {},
   "outputs": [
    {
     "name": "stdout",
     "output_type": "stream",
     "text": [
      "[[788. 126.  86.]\n",
      " [174. 706. 120.]\n",
      " [ 58. 102. 840.]]\n"
     ]
    }
   ],
   "source": [
    "a1,a2,a3,a4,a5,a6=Resize_Image(8)\n",
    "g=Gaussian_Generative_classifier(a1,a2,a3,a4,a5,a6,8)\n",
    "print(g)"
   ]
  },
  {
   "cell_type": "code",
   "execution_count": 126,
   "metadata": {},
   "outputs": [
    {
     "name": "stdout",
     "output_type": "stream",
     "text": [
      "[[778. 153.  69.]\n",
      " [199. 684. 117.]\n",
      " [ 53. 122. 825.]]\n"
     ]
    }
   ],
   "source": [
    "a1,a2,a3,a4,a5,a6=Resize_Image(4)\n",
    "h=Gaussian_Generative_classifier(a1,a2,a3,a4,a5,a6,4)\n",
    "print(h)"
   ]
  },
  {
   "cell_type": "code",
   "execution_count": 128,
   "metadata": {},
   "outputs": [],
   "source": [
    "confusion_matrices_gm =[e]+[f]+[g]+[h]"
   ]
  },
  {
   "cell_type": "markdown",
   "metadata": {},
   "source": [
    "<hr style=\"border:2px solid black\"> </hr>\n",
    "\n",
    "## Repeat previous two confusion matrices for image sizes 16,8,4.\n",
    "### Return confusion_matrices (array containing 8 matrices, 4 for naive bayes, 4 for gaussian generative model). \n",
    "#### confusion_matrices_nb = [confusion_matrix_nb_32, confusion_matrix_nb_16, confusion_matrix_nb_8, confusion_matrix_nb_4].\n",
    "#### confusion_matrices_gm = [confusion_matrix_gm_32, confusion_matrix_gm_16, confusion_matrix_gm_8, confusion_matrix_gm_4]."
   ]
  },
  {
   "cell_type": "code",
   "execution_count": 129,
   "metadata": {},
   "outputs": [],
   "source": [
    "confusion_matrices = confusion_matrices_nb + confusion_matrices_gm"
   ]
  },
  {
   "cell_type": "markdown",
   "metadata": {},
   "source": [
    "<hr style=\"border:2px solid black\"> </hr>\n",
    "\n",
    "## The below 2 cells will only work if you return confusion_matrices (previous cell) with all 8 matrices in it.\n",
    "## Please don't edit the below cells.\n",
    "## Please run them and save the notebook before uploading so the script can check the saved image.\n",
    "## Please don't change the order of the matrices.\n"
   ]
  },
  {
   "cell_type": "code",
   "execution_count": 130,
   "metadata": {},
   "outputs": [
    {
     "data": {
      "image/png": "[encoded data removed]",
      "text/plain": [
       "<Figure size 1440x720 with 8 Axes>"
      ]
     },
     "metadata": {},
     "output_type": "display_data"
    }
   ],
   "source": [
    "dims = [32,16,8,4,32,16,8,4]\n",
    "fig, axs = plt.subplots(2, 4,figsize=(20,10))\n",
    "fig.suptitle(\"Confusion Matrix for each Scale\",fontsize=30)\n",
    "for pi in range(0,axs.shape[0]):\n",
    "    for pj in range(0,axs.shape[1]):\n",
    "        index = np.round(pi*4+pj)\n",
    "        cm = confusion_matrices[index]\n",
    "        axs[pi,pj].matshow(cm,cmap=\"Blues\")\n",
    "        axs[pi,pj].set_title(\"For d=\"+str(dims[index])+\" ,acc=\"+str(np.round(np.diag(cm).sum()/3000,3)),fontsize=20)\n",
    "        for i in range(0,cm.shape[0]):\n",
    "            for j in range(0,cm.shape[1]):\n",
    "                axs[pi,pj].set_xticks([])\n",
    "                axs[pi,pj].set_yticks([])\n",
    "                axs[pi,pj].annotate(cm[i,j],(j,i))"
   ]
  },
  {
   "cell_type": "code",
   "execution_count": 131,
   "metadata": {},
   "outputs": [
    {
     "data": {
      "text/plain": [
       "Text(0.5, 1.0, 'NB VS GM')"
      ]
     },
     "execution_count": 131,
     "metadata": {},
     "output_type": "execute_result"
    },
    {
     "data": {
      "image/png": "[encoded data removed]",
      "text/plain": [
       "<Figure size 1440x720 with 1 Axes>"
      ]
     },
     "metadata": {
      "needs_background": "light"
     },
     "output_type": "display_data"
    }
   ],
   "source": [
    "plt.figure(figsize=(20,10))\n",
    "plt.plot(dims[:4],[np.diag(cm).sum()/3000 for cm in confusion_matrices_nb],color='orange')\n",
    "plt.plot(dims[:4],[np.diag(cm).sum()/3000 for cm in confusion_matrices_gm],color='blue')\n",
    "plt.xlabel('Scale')\n",
    "plt.ylabel('Accuracy')\n",
    "plt.title('NB VS GM')"
   ]
  },
  {
   "cell_type": "markdown",
   "metadata": {},
   "source": [
    "<hr style=\"border:2px solid black\"> </hr>\n",
    "\n",
    "## Comment on the results ##\n",
    "\n",
    "\n",
    "As shown above, we can deduce that the Generative model classifier has an overall better accuracy than the Naive Bayes Classifier. We can also deduce that the frog class had better accuracy in both classifiers than the airplane and automobile classes. Moreover, in the Generative model classifier, the accuracy of resizing the image has a better result than the original image(32,32). Finally, resizing down the image by (8,8) & (4,4) decreases the accuracy of the Naive Bayes classifier."
   ]
  }
 ],
 "metadata": {
  "interpreter": {
   "hash": "31f2aee4e71d21fbe5cf8b01ff0e069b9275f58929596ceb00d14d90e3e16cd6"
  },
  "kernelspec": {
   "display_name": "Python 3 (ipykernel)",
   "language": "python",
   "name": "python3"
  },
  "language_info": {
   "codemirror_mode": {
    "name": "ipython",
    "version": 3
   },
   "file_extension": ".py",
   "mimetype": "text/x-python",
   "name": "python",
   "nbconvert_exporter": "python",
   "pygments_lexer": "ipython3",
   "version": "3.9.1"
  }
 },
 "nbformat": 4,
 "nbformat_minor": 4
}
